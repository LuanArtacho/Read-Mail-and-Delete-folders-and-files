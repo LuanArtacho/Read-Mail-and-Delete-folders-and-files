{
 "cells": [
  {
   "cell_type": "markdown",
   "metadata": {},
   "source": [
    "## Script para ler os emails e os anexos do outlook"
   ]
  },
  {
   "cell_type": "code",
   "execution_count": 1,
   "metadata": {},
   "outputs": [
    {
     "name": "stdout",
     "output_type": "stream",
     "text": [
      "Requirement already satisfied: pywin32 in c:\\programdata\\anaconda3\\lib\\site-packages (305.1)\n"
     ]
    }
   ],
   "source": [
    "!pip install pywin32"
   ]
  },
  {
   "cell_type": "code",
   "execution_count": 2,
   "metadata": {},
   "outputs": [
    {
     "name": "stdout",
     "output_type": "stream",
     "text": [
      "Requirement already satisfied: pandas in c:\\programdata\\anaconda3\\lib\\site-packages (1.5.3)\n",
      "Requirement already satisfied: python-dateutil>=2.8.1 in c:\\programdata\\anaconda3\\lib\\site-packages (from pandas) (2.8.2)\n",
      "Requirement already satisfied: pytz>=2020.1 in c:\\programdata\\anaconda3\\lib\\site-packages (from pandas) (2022.7)\n",
      "Requirement already satisfied: numpy>=1.21.0 in c:\\programdata\\anaconda3\\lib\\site-packages (from pandas) (1.23.5)\n",
      "Requirement already satisfied: six>=1.5 in c:\\programdata\\anaconda3\\lib\\site-packages (from python-dateutil>=2.8.1->pandas) (1.16.0)\n"
     ]
    }
   ],
   "source": [
    "!pip install pandas"
   ]
  },
  {
   "cell_type": "code",
   "execution_count": null,
   "metadata": {},
   "outputs": [],
   "source": []
  },
  {
   "cell_type": "code",
   "execution_count": 8,
   "metadata": {},
   "outputs": [],
   "source": [
    "import os\n",
    "import win32com.client\n",
    "import pandas as pd\n",
    "\n",
    "# Caminho onde os anexos serão salvos\n",
    "caminho_salvar = r'C:\\Users\\luanzera\\Desktop\\Estudos\\Task BBA - Ler emails e anexos\\anexos_email'\n",
    "\n",
    "# Conexão com o Outlook\n",
    "outlook = win32com.client.Dispatch(\"Outlook.Application\")\n",
    "namespace = outlook.GetNamespace(\"MAPI\")\n",
    "\n",
    "# Pasta onde os emails estão localizados (exemplo: Caixa de entrada)\n",
    "pasta = namespace.GetDefaultFolder(6)  # 6 = Caixa de entrada\n",
    "\n",
    "# Filtro para selecionar os emails específicos (exemplo: emails não lidos com um assunto específico)\n",
    "filtro = \"[Unread]=True AND ([Subject]='Anexo em pdf' OR [Subject]='ENVIANDO UM XLSX')\"\n",
    "\n",
    "# Busca pelos emails que correspondem ao filtro\n",
    "emails = pasta.Items.Restrict(filtro)\n",
    "\n",
    "for email in emails:\n",
    "    # Verifica se o email possui anexos\n",
    "    if email.Attachments.Count > 0:\n",
    "        for anexo in email.Attachments:\n",
    "            # Verifica o tipo do anexo (PDF ou Excel)\n",
    "            if anexo.FileName.endswith(\".pdf\"):\n",
    "                # Salva o anexo PDF\n",
    "                anexo.SaveAsFile(os.path.join(caminho_salvar, anexo.FileName))\n",
    "            elif anexo.FileName.endswith(\".xlsx\") or anexo.FileName.endswith(\".xls\"):\n",
    "                # Salva o anexo Excel com o nome original\n",
    "                caminho_arquivo = os.path.join(caminho_salvar, anexo.FileName)\n",
    "                anexo.SaveAsFile(caminho_arquivo)\n",
    "                \n",
    "                # Lê o arquivo Excel usando o pandas\n",
    "                df = pd.read_excel(caminho_arquivo)\n",
    "                \n"
   ]
  },
  {
   "cell_type": "code",
   "execution_count": null,
   "metadata": {},
   "outputs": [],
   "source": []
  },
  {
   "cell_type": "markdown",
   "metadata": {},
   "source": [
    "# PEGAR A ULTIMA PASTA E DUPLICAR RENOMEANDO COM A DATA ATUAL"
   ]
  },
  {
   "cell_type": "code",
   "execution_count": 8,
   "metadata": {},
   "outputs": [
    {
     "name": "stdout",
     "output_type": "stream",
     "text": [
      "Pasta 'Task BBA - Ler emails e anexos' copiada e renomeada para 'Task BBA - Ler emails e anexos-24-05'.\n"
     ]
    }
   ],
   "source": [
    "import os\n",
    "import shutil\n",
    "from datetime import datetime\n",
    "\n",
    "diretorio = r'C:\\Users\\luanzera\\Desktop\\Estudos'  # Insira o caminho do diretório aqui\n",
    "\n",
    "# Obter todas as pastas no diretório\n",
    "pastas = [os.path.join(diretorio, nome) for nome in os.listdir(diretorio) if os.path.isdir(os.path.join(diretorio, nome))]\n",
    "\n",
    "# Ordenar as pastas por data de modificação (a mais recente primeiro)\n",
    "pastas.sort(key=lambda x: os.path.getmtime(x), reverse=True)\n",
    "\n",
    "if len(pastas) > 0:\n",
    "    # Obter a última pasta modificada\n",
    "    ultima_pasta = pastas[0]\n",
    "    \n",
    "    # Obter a data atual (apenas dia e mês)\n",
    "    data_atual = datetime.now().strftime(\"%d-%m\")\n",
    "    \n",
    "    # Construir o novo nome da pasta\n",
    "    novo_nome = f\"{os.path.basename(ultima_pasta)}-{data_atual}\"\n",
    "    \n",
    "    # Caminho de destino para a cópia\n",
    "    destino = os.path.join(diretorio, novo_nome)\n",
    "    \n",
    "    # Copiar a pasta para o novo destino\n",
    "    shutil.copytree(ultima_pasta, destino)\n",
    "    \n",
    "    print(f\"Pasta '{os.path.basename(ultima_pasta)}' copiada e renomeada para '{novo_nome}'.\")\n",
    "else:\n",
    "    print(\"Nenhuma pasta encontrada no diretório especificado.\")\n",
    "    \n",
    "\n",
    "\n"
   ]
  },
  {
   "cell_type": "code",
   "execution_count": null,
   "metadata": {},
   "outputs": [],
   "source": []
  },
  {
   "cell_type": "markdown",
   "metadata": {},
   "source": [
    "## apagar arquivos selecionados apartir do diretorio atual"
   ]
  },
  {
   "cell_type": "code",
   "execution_count": 10,
   "metadata": {},
   "outputs": [
    {
     "name": "stdout",
     "output_type": "stream",
     "text": [
      "C:\\Users\\luanzera\\Desktop\\Estudos\\Task BBA - Ler emails e anexos\n"
     ]
    }
   ],
   "source": [
    "import os\n",
    "\n",
    "arquivos_xlsx = ['relatorio_de_lastros.xlsx', 'calc_lastros.xlsx']  # Lista de arquivos XLSX a serem excluídos\n",
    "arquivo_pdf = 'arquivo.pdf'  # Nome do arquivo PDF a ser excluído\n",
    "\n",
    "pasta_atual = os.getcwd()  # Obter o diretório atual\n",
    "print(pasta_atual)\n",
    "\n",
    "# Excluir os arquivos XLSX\n",
    "for arquivo in arquivos_xlsx:\n",
    "    caminho_arquivo = os.path.join(pasta_atual, novo_nome, arquivo)\n",
    "    if os.path.exists(caminho_arquivo) and os.path.isfile(caminho_arquivo):\n",
    "        os.remove(caminho_arquivo)\n",
    "        print(f\"Arquivo '{arquivo}' excluído.\")\n",
    "\n",
    "# Excluir o arquivo PDF\n",
    "caminho_arquivo_pdf = os.path.join(pasta_atual, novo_nome, arquivo_pdf)\n",
    "if os.path.exists(caminho_arquivo_pdf) and os.path.isfile(caminho_arquivo_pdf):\n",
    "    os.remove(caminho_arquivo_pdf)\n",
    "    print(f\"Arquivo '{arquivo_pdf}' excluído.\")\n"
   ]
  },
  {
   "cell_type": "code",
   "execution_count": null,
   "metadata": {},
   "outputs": [],
   "source": []
  },
  {
   "cell_type": "markdown",
   "metadata": {},
   "source": [
    "## apagar arquivos selecionados apartir da ultima pasta modificada"
   ]
  },
  {
   "cell_type": "code",
   "execution_count": 12,
   "metadata": {},
   "outputs": [
    {
     "name": "stdout",
     "output_type": "stream",
     "text": [
      "Arquivo 'relatorio_de_lastros.xlsx' excluído.\n",
      "Arquivo 'calc_lastros.xlsx' excluído.\n"
     ]
    }
   ],
   "source": [
    "import os\n",
    "import shutil\n",
    "from datetime import datetime\n",
    "\n",
    "arquivos_xlsx = ['relatorio_de_lastros.xlsx', 'calc_lastros.xlsx']  # Lista de arquivos XLSX a serem excluídos\n",
    "arquivo_pdf = 'arquivo.pdf'  # Nome do arquivo PDF a ser excluído\n",
    "\n",
    "diretorio = r'C:\\Users\\luanzera\\Desktop\\Estudos'  # Insira o caminho do diretório aqui\n",
    "\n",
    "# Obter todas as pastas no diretório\n",
    "pastas = [os.path.join(diretorio, nome) for nome in os.listdir(diretorio) if os.path.isdir(os.path.join(diretorio, nome))]\n",
    "\n",
    "# Ordenar as pastas por data de modificação (a mais recente primeiro)\n",
    "pastas.sort(key=lambda x: os.path.getmtime(x), reverse=True)\n",
    "\n",
    "if len(pastas) > 0:\n",
    "    # Obter a última pasta modificada\n",
    "    ultima_pasta = pastas[0]\n",
    "\n",
    "    # Excluir os arquivos XLSX\n",
    "    for arquivo in arquivos_xlsx:\n",
    "        caminho_arquivo = os.path.join(ultima_pasta, arquivo)\n",
    "        if os.path.exists(caminho_arquivo) and os.path.isfile(caminho_arquivo):\n",
    "            os.remove(caminho_arquivo)\n",
    "            print(f\"Arquivo '{arquivo}' excluído.\")\n",
    "\n",
    "    # Excluir o arquivo PDF\n",
    "    caminho_arquivo_pdf = os.path.join(ultima_pasta, arquivo_pdf)\n",
    "    if os.path.exists(caminho_arquivo_pdf) and os.path.isfile(caminho_arquivo_pdf):\n",
    "        os.remove(caminho_arquivo_pdf)\n",
    "        print(f\"Arquivo '{arquivo_pdf}' excluído.\")\n",
    "else:\n",
    "    print(\"Nenhuma pasta encontrada no diretório especificado.\")\n"
   ]
  },
  {
   "cell_type": "code",
   "execution_count": null,
   "metadata": {},
   "outputs": [],
   "source": []
  }
 ],
 "metadata": {
  "kernelspec": {
   "display_name": "Python 3 (ipykernel)",
   "language": "python",
   "name": "python3"
  },
  "language_info": {
   "codemirror_mode": {
    "name": "ipython",
    "version": 3
   },
   "file_extension": ".py",
   "mimetype": "text/x-python",
   "name": "python",
   "nbconvert_exporter": "python",
   "pygments_lexer": "ipython3",
   "version": "3.10.9"
  },
  "vscode": {
   "interpreter": {
    "hash": "dbfda91510f23c36c829628de0a1c0450a561d6bf983e3a880f68eb1fe4ffe9e"
   }
  }
 },
 "nbformat": 4,
 "nbformat_minor": 2
}
